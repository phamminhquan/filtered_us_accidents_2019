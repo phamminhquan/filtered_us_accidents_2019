{
 "cells": [
  {
   "cell_type": "code",
   "execution_count": 1,
   "metadata": {},
   "outputs": [],
   "source": [
    "from IPython.display import display\n",
    "import csv\n",
    "import numpy\n",
    "import ipyleaflet as leaflet\n",
    "import ipywidgets as widgets\n",
    "\n",
    "state_list = ['AL', 'AK', 'AZ', 'AR', 'CA', 'CO', 'CT', 'DE', 'FL', 'GA', 'HI', 'ID', 'IL', 'IN', 'IA', 'KS', 'KY', 'LA', 'ME', 'MD', 'MA', 'MI', 'MN', 'MS', 'MO', 'MT', 'NE', 'NV', 'NH', 'NJ', 'NM', 'NY', 'NC', 'ND', 'OH', 'OK', 'OR', 'PA', 'RI', 'SC', 'SD', 'TN', 'TX', 'UT', 'VT', 'VA', 'WA', 'WV', 'WI', 'WY']"
   ]
  },
  {
   "cell_type": "code",
   "execution_count": 2,
   "metadata": {},
   "outputs": [],
   "source": [
    "data =[]\n",
    "with open('US_Accidents_May19.csv', mode='r') as file:\n",
    "    csv_reader = csv.reader(file, delimiter=',')\n",
    "    line_count = 0\n",
    "    for row in csv_reader:\n",
    "        data_sample = {}\n",
    "        if line_count==0:\n",
    "            keys = row\n",
    "        else:\n",
    "            for i in range(len(keys)):\n",
    "                data_sample[keys[i]] = row[i]\n",
    "            data.append(data_sample)\n",
    "        line_count += 1"
   ]
  },
  {
   "cell_type": "code",
   "execution_count": 3,
   "metadata": {},
   "outputs": [],
   "source": [
    "# Filter function\n",
    "def predicate(sample):\n",
    "    if sample['State']==state and sample['City']==city and int(sample['Severity'])==severity:\n",
    "        return True\n",
    "    else:\n",
    "        return False\n",
    "\n",
    "# Filtering\n",
    "def filter_input(data): return list(filter(predicate, data))"
   ]
  },
  {
   "cell_type": "code",
   "execution_count": 4,
   "metadata": {},
   "outputs": [],
   "source": [
    "# Create widgets for map\n",
    "state_widget = widgets.Dropdown(\n",
    "    options=state_list,\n",
    "    value='AL',\n",
    "    description='State:',\n",
    "    disabled=False,\n",
    ")\n",
    "\n",
    "city_widget = widgets.Text(\n",
    "    #value='',\n",
    "    placeholder='e.g. Jacksonville',\n",
    "    description='City:',\n",
    "    disabled=False\n",
    ")\n",
    "\n",
    "severity_widget = widgets.BoundedIntText(\n",
    "    value=1,\n",
    "    min=1,\n",
    "    max=4,\n",
    "    step=1,\n",
    "    description='Severity',\n",
    "    disabled=False\n",
    ")\n",
    "\n",
    "button_widget = widgets.Button(description=\"Update\")\n",
    "def on_button_clicked(b):\n",
    "    print(\"Button clicked.\")\n",
    "button_widget.on_click(on_button_clicked)\n",
    "\n",
    "# Create widget control\n",
    "state_widget_control = leaflet.WidgetControl(widget=state_widget, position='topright')\n",
    "city_widget_control = leaflet.WidgetControl(widget=city_widget, position='topright')\n",
    "severity_widget_control = leaflet.WidgetControl(widget=severity_widget, position='topright')\n",
    "button_widget_control = leaflet.WidgetControl(widget=button_widget, position='topright')"
   ]
  },
  {
   "cell_type": "code",
   "execution_count": 5,
   "metadata": {},
   "outputs": [
    {
     "name": "stdout",
     "output_type": "stream",
     "text": [
      "3598\n"
     ]
    }
   ],
   "source": [
    "# Input Param\n",
    "state = 'FL'\n",
    "city = 'Jacksonville'\n",
    "severity = 2\n",
    "color_by_severity = {1:'green', 2:'blue', 3:'yellow', 4:'red'}\n",
    "color = color_by_severity[severity]\n",
    "\n",
    "# Filter data by input param\n",
    "output = filter_input(data)\n",
    "\n",
    "# Print-out to check\n",
    "print(len(output))\n",
    "\n",
    "# Get coordinates from filter output (lat, long)\n",
    "coordinates = []\n",
    "lat_center, lng_center = 0, 0\n",
    "min_lat, max_lat, min_lng, max_lng = 0, 0, 0, 0\n",
    "for sample in output:\n",
    "    coordinates.append((float(sample['Start_Lat']), float(sample['Start_Lng'])))\n",
    "    lat_center += float(sample['Start_Lat'])\n",
    "    lng_center += float(sample['Start_Lng'])\n",
    "lat_center /= len(output)\n",
    "lng_center /= len(output)"
   ]
  },
  {
   "cell_type": "code",
   "execution_count": 6,
   "metadata": {},
   "outputs": [
    {
     "name": "stdout",
     "output_type": "stream",
     "text": [
      "0.46974100000000263\n"
     ]
    }
   ],
   "source": [
    "# Get min and max lat for zoom calculation\n",
    "lat_min_max = min(coordinates)[0], max(coordinates)[0]\n",
    "lat_range = lat_min_max[1]-lat_min_max[0]\n",
    "lng_min_max = min(coordinates)[1], max(coordinates)[1]\n",
    "lng_range = lng_min_max[1]-lng_min_max[0]\n",
    "if lat_range > lng_range:\n",
    "    max_range = lat_range\n",
    "else:\n",
    "    max_range = lng_range\n",
    "print(max_range)"
   ]
  },
  {
   "cell_type": "code",
   "execution_count": 7,
   "metadata": {},
   "outputs": [
    {
     "data": {
      "application/vnd.jupyter.widget-view+json": {
       "model_id": "2b016befcc704d1db617937c440c579e",
       "version_major": 2,
       "version_minor": 0
      },
      "text/plain": [
       "Map(basemap={'url': 'https://{s}.tile.openstreetmap.org/{z}/{x}/{y}.png', 'max_zoom': 19, 'attribution': 'Map …"
      ]
     },
     "metadata": {},
     "output_type": "display_data"
    },
    {
     "data": {
      "application/vnd.jupyter.widget-view+json": {
       "model_id": "bf6afed3924e41e1888e0524d3172fab",
       "version_major": 2,
       "version_minor": 0
      },
      "text/plain": [
       "Button(description='Update', style=ButtonStyle())"
      ]
     },
     "metadata": {},
     "output_type": "display_data"
    }
   ],
   "source": [
    "# Generate map\n",
    "center = (lat_center, lng_center) # geological center of US\n",
    "zoom = int(np.floor(-3.3333*max_range + 11.6667))\n",
    "if zoom > 18:\n",
    "    zoom = 18\n",
    "elif zoom < 1:\n",
    "    zoom = 1\n",
    "m = leaflet.Map(center=center, zoom=zoom)\n",
    "m.add_control(state_widget_control)\n",
    "m.add_control(city_widget_control)\n",
    "m.add_control(severity_widget_control)\n",
    "m.add_control(button_widget_control)\n",
    "for i in range(len(coordinates)):\n",
    "    circle = leaflet.Circle()\n",
    "    circle.location = coordinates[i]\n",
    "    circle.radius = 30\n",
    "    circle.color = color\n",
    "    circle.fill_color = color\n",
    "    m.add_layer(circle)\n",
    "m"
   ]
  },
  {
   "cell_type": "code",
   "execution_count": null,
   "metadata": {},
   "outputs": [],
   "source": []
  }
 ],
 "metadata": {
  "kernelspec": {
   "display_name": "Python 3",
   "language": "python",
   "name": "python3"
  },
  "language_info": {
   "codemirror_mode": {
    "name": "ipython",
    "version": 3
   },
   "file_extension": ".py",
   "mimetype": "text/x-python",
   "name": "python",
   "nbconvert_exporter": "python",
   "pygments_lexer": "ipython3",
   "version": "3.7.5"
  }
 },
 "nbformat": 4,
 "nbformat_minor": 4
}
