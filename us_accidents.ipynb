{
 "cells": [
  {
   "cell_type": "code",
   "execution_count": 35,
   "metadata": {},
   "outputs": [],
   "source": [
    "import csv\n",
    "import numpy\n",
    "from ipyleaflet import Map, Marker, Circle"
   ]
  },
  {
   "cell_type": "code",
   "execution_count": 4,
   "metadata": {},
   "outputs": [],
   "source": [
    "data =[]\n",
    "with open('US_Accidents_May19.csv', mode='r') as file:\n",
    "    csv_reader = csv.reader(file, delimiter=',')\n",
    "    line_count = 0\n",
    "    for row in csv_reader:\n",
    "        data_sample = {}\n",
    "        if line_count==0:\n",
    "            keys = row\n",
    "        else:\n",
    "            for i in range(len(keys)):\n",
    "                data_sample[keys[i]] = row[i]\n",
    "            data.append(data_sample)\n",
    "        line_count += 1"
   ]
  },
  {
   "cell_type": "code",
   "execution_count": 20,
   "metadata": {},
   "outputs": [],
   "source": [
    "# Filter function\n",
    "def predicate(sample):\n",
    "    if sample['State']==state and sample['City']==city and int(sample['Severity'])==severity:\n",
    "        return True\n",
    "    else:\n",
    "        return False\n",
    "\n",
    "# Filtering\n",
    "def filter_input(data): return list(filter(predicate, data))"
   ]
  },
  {
   "cell_type": "code",
   "execution_count": 33,
   "metadata": {},
   "outputs": [
    {
     "name": "stdout",
     "output_type": "stream",
     "text": [
      "3598\n"
     ]
    }
   ],
   "source": [
    "# Input Param\n",
    "state = 'FL'\n",
    "city = 'Jacksonville'\n",
    "severity = 2\n",
    "\n",
    "# Filter data by input param\n",
    "output = filter_input(data)\n",
    "\n",
    "# Print-out to check\n",
    "print(len(output))\n",
    "\n",
    "# Get coordinates from filter output (lat, long)\n",
    "coordinates = []\n",
    "lat_center, lng_center = 0, 0\n",
    "for sample in output:\n",
    "    coordinates.append((float(sample['Start_Lat']), float(sample['Start_Lng'])))\n",
    "    lat_center += float(sample['Start_Lat'])\n",
    "    lng_center += float(sample['Start_Lng'])\n",
    "lat_center /= len(output)\n",
    "lng_center /= len(output)"
   ]
  },
  {
   "cell_type": "code",
   "execution_count": null,
   "metadata": {},
   "outputs": [],
   "source": [
    "# Generate map\n",
    "center = (lat_center, lng_center) # geological center of US\n",
    "m = Map(center=center, zoom=8)\n",
    "for i in range(len(coordinates)):\n",
    "    circle = Circle()\n",
    "    circle.location = coordinates[i]\n",
    "    circle.radius = 500\n",
    "    circle.color = \"red\"\n",
    "    circle.fill_color = \"red\"\n",
    "    m.add_layer(circle)\n",
    "m"
   ]
  },
  {
   "cell_type": "code",
   "execution_count": null,
   "metadata": {},
   "outputs": [],
   "source": []
  }
 ],
 "metadata": {
  "kernelspec": {
   "display_name": "Python 3",
   "language": "python",
   "name": "python3"
  },
  "language_info": {
   "codemirror_mode": {
    "name": "ipython",
    "version": 3
   },
   "file_extension": ".py",
   "mimetype": "text/x-python",
   "name": "python",
   "nbconvert_exporter": "python",
   "pygments_lexer": "ipython3",
   "version": "3.7.5"
  }
 },
 "nbformat": 4,
 "nbformat_minor": 4
}
